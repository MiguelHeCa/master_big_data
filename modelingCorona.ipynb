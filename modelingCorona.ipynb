{
 "cells": [
  {
   "cell_type": "markdown",
   "metadata": {},
   "source": [
    "# Modelando el número de personas infectadas por SARS-COV-2\n",
    "\n",
    "*Disclaimer*\n",
    "\n",
    "Este es un ejercicio con fines didácticos, con modelos extremadamente simplificados, por lo que no pueden ser utilizados como referente en la toma de decisiones.\n",
    "\n",
    "*Nota*\n",
    "\n",
    "La organización de Our World in Data dejó de publicar nuevos datos a partir del 18 de marzo por encontrar [inconsistencias](https://ourworldindata.org/covid-sources-comparison) en la fuente de su información. La organización recomienda la [ECDC](https://www.ecdc.europa.eu/en/publications-data/download-todays-data-geographic-distribution-covid-19-cases-worldwide) o los datos del [CSSE](https://coronavirus.jhu.edu/map.html) de la Universidad de John Hopkins."
   ]
  },
  {
   "cell_type": "code",
   "execution_count": 18,
   "metadata": {},
   "outputs": [],
   "source": [
    "import pandas as pd\n",
    "from sklearn.metrics import mean_squared_error\n",
    "from scipy.optimize import curve_fit\n",
    "from scipy.optimize import fsolve\n",
    "import matplotlib.pyplot as plt\n",
    "import numpy as np\n",
    "from datetime import datetime, timedelta\n",
    "\n",
    "# Datos\n",
    "df_original = pd.read_csv(\"https://covid.ourworldindata.org/data/total_cases.csv\")\n",
    "\n",
    "# Selección de casos\n",
    "pais = \"Spain\""
   ]
  },
  {
   "cell_type": "markdown",
   "metadata": {},
   "source": [
    "## Definición de modelos\n",
    "\n",
    "Se usan dos tipos de funciones: la logística y la exponencial.\n",
    "\n",
    "La logística se define como\n",
    "\n",
    "$$\n",
    "f(x, a, b, c) = \\frac{c}{1 + e^{\\frac{-(x - b)}{a}}}\n",
    "$$\n",
    "\n",
    "en donde $x$ son los días, $a$ la velocidad de infección, $b$ el día con el máximo número de casos confirmados (que es el punto de inflexión donde después la tasa de infección comienza a decrecer) y $c$ el número total de personas infectadas al final del ciclo de infección.\n",
    "\n",
    "Por otro lado, la función exponencial se define como:\n",
    "\n",
    "$$f(x, a, b, c) = a \\cdot e^{b(x -c)}  $$\n",
    "\n",
    "con los mismos parámetros que la logística.\n",
    "\n",
    "En Python se escribe de la siguiente manera:"
   ]
  },
  {
   "cell_type": "code",
   "execution_count": 19,
   "metadata": {},
   "outputs": [],
   "source": [
    "def modelo_logistico(x, a, b, c):\n",
    "    return c / (1 + np.exp(-(x - b) / a))\n",
    "\n",
    "def modelo_exponencial(x, a, b, c):\n",
    "    return a * np.exp( b * (x - c))"
   ]
  },
  {
   "cell_type": "markdown",
   "metadata": {},
   "source": [
    "## Modelo logístico\n",
    "\n",
    "Se selecciona el país puesto en `country` y se crea una columna `days`que indica los días que han transcurrido desde el 1 de enero. Luego se crean `x` e `y` como listas de las columnas `days` y los casos del país, respectivamente."
   ]
  },
  {
   "cell_type": "code",
   "execution_count": 36,
   "metadata": {},
   "outputs": [],
   "source": [
    "df = df_original\n",
    "df = df[['date', country]]\n",
    "df = df[True != df[country].isna()]\n",
    "\n",
    "FMT = '%Y-%m-%d'\n",
    "primer_dia = datetime.strptime(df.iloc[0,0], FMT)\n",
    "\n",
    "df = df.assign(days = df['date'].map(lambda x : (datetime.strptime(x, FMT) - primer_dia).days))\n",
    "x = list(df.iloc[:, 2])\n",
    "y = list(df.iloc[:, 1])"
   ]
  },
  {
   "cell_type": "code",
   "execution_count": 37,
   "metadata": {},
   "outputs": [
    {
     "data": {
      "text/html": [
       "<div>\n",
       "<style scoped>\n",
       "    .dataframe tbody tr th:only-of-type {\n",
       "        vertical-align: middle;\n",
       "    }\n",
       "\n",
       "    .dataframe tbody tr th {\n",
       "        vertical-align: top;\n",
       "    }\n",
       "\n",
       "    .dataframe thead th {\n",
       "        text-align: right;\n",
       "    }\n",
       "</style>\n",
       "<table border=\"1\" class=\"dataframe\">\n",
       "  <thead>\n",
       "    <tr style=\"text-align: right;\">\n",
       "      <th></th>\n",
       "      <th>date</th>\n",
       "      <th>Spain</th>\n",
       "      <th>days</th>\n",
       "    </tr>\n",
       "  </thead>\n",
       "  <tbody>\n",
       "    <tr>\n",
       "      <th>52</th>\n",
       "      <td>2020-03-13</td>\n",
       "      <td>2965.0</td>\n",
       "      <td>41</td>\n",
       "    </tr>\n",
       "    <tr>\n",
       "      <th>53</th>\n",
       "      <td>2020-03-14</td>\n",
       "      <td>4231.0</td>\n",
       "      <td>42</td>\n",
       "    </tr>\n",
       "    <tr>\n",
       "      <th>54</th>\n",
       "      <td>2020-03-15</td>\n",
       "      <td>5753.0</td>\n",
       "      <td>43</td>\n",
       "    </tr>\n",
       "    <tr>\n",
       "      <th>55</th>\n",
       "      <td>2020-03-16</td>\n",
       "      <td>7753.0</td>\n",
       "      <td>44</td>\n",
       "    </tr>\n",
       "    <tr>\n",
       "      <th>56</th>\n",
       "      <td>2020-03-17</td>\n",
       "      <td>9191.0</td>\n",
       "      <td>45</td>\n",
       "    </tr>\n",
       "  </tbody>\n",
       "</table>\n",
       "</div>"
      ],
      "text/plain": [
       "          date   Spain  days\n",
       "52  2020-03-13  2965.0    41\n",
       "53  2020-03-14  4231.0    42\n",
       "54  2020-03-15  5753.0    43\n",
       "55  2020-03-16  7753.0    44\n",
       "56  2020-03-17  9191.0    45"
      ]
     },
     "execution_count": 37,
     "metadata": {},
     "output_type": "execute_result"
    }
   ],
   "source": [
    "df.tail()"
   ]
  },
  {
   "cell_type": "markdown",
   "metadata": {},
   "source": [
    "Luego se utiliza la función creada de `modelo_logistico` con `curve_fit`, que calcula los parámetros del modelo y también genera una matriz de covarianzas\n",
    "\n",
    "Los objetos `p0_*` son valores iniciales hipotéticos para el ajuste de funciones. Se usan dentro del argumento `p0` y en el modelo logístico equivale a:\n",
    "\n",
    "$$\n",
    "\\frac{40000}{1 + e^{\\frac{-(x - 20)}{5}}}\n",
    "$$"
   ]
  },
  {
   "cell_type": "code",
   "execution_count": 33,
   "metadata": {},
   "outputs": [],
   "source": [
    "p0_log = [5, 20, 40000]\n",
    "\n",
    "ajuste = curve_fit(modelo_logistico, xdata=x, ydata=y, p0=p0_log, maxfev=2000)\n",
    "a, b, c = ajuste[0]\n",
    "errores = np.sqrt(np.diag(ajuste[1]))"
   ]
  },
  {
   "cell_type": "markdown",
   "metadata": {},
   "source": [
    "Los resultados del modelo se muestran con sus errores estándar:"
   ]
  },
  {
   "cell_type": "code",
   "execution_count": 38,
   "metadata": {},
   "outputs": [
    {
     "name": "stdout",
     "output_type": "stream",
     "text": [
      "a:  2.376 +/- 0.0547\n",
      "b:  44.605 +/- 0.2225\n",
      "c:  17189.697 +/- 826.4322\n"
     ]
    }
   ],
   "source": [
    "for l, p, e in zip([\"a: \", \"b: \", \"c: \"], ajuste[0], errores):\n",
    "    print(l, str(round(p, 3)), '+/-' , str(round(e, 4)))"
   ]
  },
  {
   "cell_type": "markdown",
   "metadata": {},
   "source": [
    "Con estos parámetros podemos saber que:"
   ]
  },
  {
   "cell_type": "code",
   "execution_count": 35,
   "metadata": {},
   "outputs": [
    {
     "name": "stdout",
     "output_type": "stream",
     "text": [
      "Número esperado de infectados al final del modelo: 17189 con un error de 826\n",
      "Fecha del punto de inflexión:  2020-03-16\n"
     ]
    }
   ],
   "source": [
    "print(\"Número esperado de infectados al final del modelo:\", int(c), 'con un error de', int(errores[2]))\n",
    "print(\"Fecha del punto de inflexión: \", datetime.strftime(primer_dia + timedelta(days=b), FMT))"
   ]
  },
  {
   "cell_type": "markdown",
   "metadata": {},
   "source": [
    "Para calcular el último día de la infección, según el modelo, se utiliza la función `fsolve` para obtener la raíz de la función logística, del cual se vería de la siguiente forma:\n",
    "\n",
    "$$\n",
    "\\frac{17189.69}{1 + e^{-(75.60 - 75.60)/2.37}} - 17189.69 = \\frac{17189.69}{1 + e^{0}} - 17189.69\n",
    "$$"
   ]
  },
  {
   "cell_type": "code",
   "execution_count": 39,
   "metadata": {},
   "outputs": [
    {
     "name": "stdout",
     "output_type": "stream",
     "text": [
      "Último día de infecciones :  2020-04-09  (aproximadamente)\n"
     ]
    }
   ],
   "source": [
    "solucion = int(fsolve(lambda z : modelo_logistico(z, a, b, c) - int(c), b))\n",
    "ultimo_dia = datetime.strftime(primer_dia + timedelta(days=solucion), FMT)\n",
    "print(\"Último día de infecciones : \", ultimo_dia , \" (aproximadamente)\")"
   ]
  },
  {
   "cell_type": "markdown",
   "metadata": {},
   "source": [
    "## Modelo exponencial\n",
    "\n",
    "Ahora hacemos el mismo procedimiento con la función logística. Hay que tomar en cuenta que en este modelo no existe un fin, i.e. el número de infectados crecerá al infinito. Para dar un número más o menos \"realista\", utilizamos como fin el último día que da el modelo logístico."
   ]
  },
  {
   "cell_type": "code",
   "execution_count": 42,
   "metadata": {},
   "outputs": [
    {
     "name": "stdout",
     "output_type": "stream",
     "text": [
      "a:  0.023 +/- 0.0547\n",
      "b:  0.294 +/- 0.2225\n",
      "c:  0.825 +/- 826.4322\n"
     ]
    }
   ],
   "source": [
    "p0_exp = [1, 1, 1]\n",
    "ajuste_exp = curve_fit(modelo_exponencial, x, y, p0=p0_exp)\n",
    "pred_x = list(range(max(x), solucion))\n",
    "\n",
    "for l, p, e in zip([\"a: \", \"b: \", \"c: \"], ajuste_exp[0], errores):\n",
    "    print(l, str(round(p, 3)), '+/-' , str(round(e, 4)))"
   ]
  },
  {
   "cell_type": "markdown",
   "metadata": {},
   "source": [
    "Gráficamente, se ve la siguiente manera:"
   ]
  },
  {
   "cell_type": "code",
   "execution_count": 43,
   "metadata": {},
   "outputs": [
    {
     "data": {
      "image/png": "[encoded data removed]",
      "text/plain": [
       "<Figure size 720x720 with 1 Axes>"
      ]
     },
     "metadata": {
      "needs_background": "light"
     },
     "output_type": "display_data"
    }
   ],
   "source": [
    "fig = plt.figure(figsize = (10, 10))\n",
    "plt.scatter(df.iloc[:, 2], df.iloc[:, 1], label='Casos observados', color = \"red\")\n",
    "plt.plot(x+pred_x, [modelo_logistico(i,ajuste[0][0],ajuste[0][1],ajuste[0][2]) for i in x+pred_x], label=\"Curva logística\", alpha=0.7, color = \"green\")\n",
    "plt.plot(x+pred_x, [modelo_exponencial(i,ajuste_exp[0][0],ajuste_exp[0][1],ajuste_exp[0][2]) for i in x+pred_x], label=\"Curva exponencial\",alpha=0.6, color = \"blue\")\n",
    "plt.legend()\n",
    "plt.xlabel(\"Días desde el primer día de infección\")\n",
    "plt.ylabel(\"Cantidad de personas infectadas\")\n",
    "plt.ylim((min(y) * 0.9 , c * 1.1))\n",
    "plt.show()"
   ]
  },
  {
   "cell_type": "code",
   "execution_count": null,
   "metadata": {},
   "outputs": [],
   "source": []
  }
 ],
 "metadata": {
  "kernelspec": {
   "display_name": "ambvi",
   "language": "python",
   "name": "ambvi"
  },
  "language_info": {
   "codemirror_mode": {
    "name": "ipython",
    "version": 3
   },
   "file_extension": ".py",
   "mimetype": "text/x-python",
   "name": "python",
   "nbconvert_exporter": "python",
   "pygments_lexer": "ipython3",
   "version": "3.8.1"
  }
 },
 "nbformat": 4,
 "nbformat_minor": 4
}
